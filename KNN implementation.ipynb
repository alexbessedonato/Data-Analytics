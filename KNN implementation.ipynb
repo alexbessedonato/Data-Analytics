{
 "cells": [
  {
   "cell_type": "code",
   "execution_count": 8,
   "id": "e16d693d",
   "metadata": {},
   "outputs": [],
   "source": [
    "from sklearn.neighbors import KNeighborsClassifier\n",
    "import numpy as np"
   ]
  },
  {
   "cell_type": "code",
   "execution_count": 15,
   "id": "5a67baff",
   "metadata": {},
   "outputs": [
    {
     "name": "stdout",
     "output_type": "stream",
     "text": [
      "['Female']\n"
     ]
    }
   ],
   "source": [
    "X = np.array([[28, 32], [33, 35], [27, 33], [31, 36]])\n",
    "Y = np.array([\"Male\",\"Male\",\"Female\",\"Female\"])\n",
    "neigh = KNeighborsClassifier(n_neighbors=3)\n",
    "neigh.fit(X, Y)\n",
    "print(neigh.predict([[28, 34]]))"
   ]
  },
  {
   "cell_type": "code",
   "execution_count": null,
   "id": "a92b6e69",
   "metadata": {},
   "outputs": [],
   "source": []
  }
 ],
 "metadata": {
  "kernelspec": {
   "display_name": "Python 3 (ipykernel)",
   "language": "python",
   "name": "python3"
  },
  "language_info": {
   "codemirror_mode": {
    "name": "ipython",
    "version": 3
   },
   "file_extension": ".py",
   "mimetype": "text/x-python",
   "name": "python",
   "nbconvert_exporter": "python",
   "pygments_lexer": "ipython3",
   "version": "3.9.7"
  }
 },
 "nbformat": 4,
 "nbformat_minor": 5
}
